{
 "cells": [
  {
   "cell_type": "markdown",
   "metadata": {
    "heading_collapsed": true
   },
   "source": [
    "# Ignore all the bs below, used it to build my stochastic models. I'll let you know when the important stuff begins"
   ]
  },
  {
   "cell_type": "code",
   "execution_count": 3,
   "metadata": {
    "hidden": true
   },
   "outputs": [
    {
     "name": "stdout",
     "output_type": "stream",
     "text": [
      "50\n",
      "50\n",
      "50\n",
      "jan18 ALL GOOD\n",
      "50\n",
      "50\n",
      "50\n",
      "feb18 ALL GOOD\n",
      "50\n",
      "50\n",
      "50\n",
      "mar18 ALL GOOD\n",
      "50\n",
      "50\n",
      "50\n",
      "may18 ALL GOOD\n"
     ]
    }
   ],
   "source": [
    "for month in [\"jan18\",\"feb18\", \"mar18\", \"may18\"]\n",
    "    data1 = CSV.read(month*\"_filter_agg_scen1.csv\")\n",
    "    data2 = CSV.read(month*\"_filter_agg_scen2.csv\")\n",
    "    data3 = CSV.read(month*\"_filter_agg_scen3.csv\")\n",
    "    data4 = CSV.read(month*\"_filter_agg_scen4.csv\")\n",
    "    s1 = size(unique(data1[!,:start_area]),1)\n",
    "    println(s1)\n",
    "    s2 = size(unique(data2[!,:start_area]),1)\n",
    "    println(s2)\n",
    "    s3 = size(unique(data3[!,:start_area]),1)\n",
    "    println(s3)\n",
    "    s4 = size(unique(data4[!,:start_area]),1)\n",
    "    e1 = size(unique(data1[!,:end_area]),1)\n",
    "    e2 = size(unique(data1[!,:end_area]),1)\n",
    "    e3 = size(unique(data1[!,:end_area]),1)\n",
    "    e4 = size(unique(data1[!,:end_area]),1)\n",
    "    if s1 == s2 & s1 == s3 & s1 == s4 & s1 == e1 & s1 == e2 & s1 == e3 & s1 == e4\n",
    "        println(month*\" ALL GOOD\")\n",
    "    else\n",
    "        println(month*\" NOT GOOD\")\n",
    "    end\n",
    "end"
   ]
  },
  {
   "cell_type": "code",
   "execution_count": 10,
   "metadata": {
    "hidden": true
   },
   "outputs": [
    {
     "data": {
      "text/plain": [
       "10-element Array{Symbol,1}:\n",
       " :Column1              \n",
       " :Day                  \n",
       " :Hour                 \n",
       " :start_time_interval  \n",
       " :start_area           \n",
       " :end_area             \n",
       " :dep_flow             \n",
       " :hourly_dep_flow_total\n",
       " :hourly_dep_flow_pct  \n",
       " :allowed_flows        "
      ]
     },
     "execution_count": 10,
     "metadata": {},
     "output_type": "execute_result"
    }
   ],
   "source": [
    "data1 = CSV.read(\"may19_flows.csv\")\n",
    "names(data1)"
   ]
  },
  {
   "cell_type": "code",
   "execution_count": 17,
   "metadata": {
    "hidden": true
   },
   "outputs": [
    {
     "data": {
      "text/plain": [
       "24-element Array{Int64,1}:\n",
       "  0\n",
       "  1\n",
       "  2\n",
       "  3\n",
       "  4\n",
       "  5\n",
       "  6\n",
       "  7\n",
       "  8\n",
       "  9\n",
       " 10\n",
       " 11\n",
       " 12\n",
       " 13\n",
       " 14\n",
       " 15\n",
       " 16\n",
       " 17\n",
       " 18\n",
       " 19\n",
       " 20\n",
       " 21\n",
       " 22\n",
       " 23"
      ]
     },
     "execution_count": 17,
     "metadata": {},
     "output_type": "execute_result"
    }
   ],
   "source": [
    "unique(data1[!,:Hour])"
   ]
  },
  {
   "cell_type": "code",
   "execution_count": 15,
   "metadata": {
    "hidden": true
   },
   "outputs": [],
   "source": [
    "start_stations = Set(unique(data1[!,2]))\n",
    "end_stations = Set(unique(data1[!,3]))\n",
    "stations = collect(union(start_stations,end_stations))\n",
    "time_intervals = unique(data1[!,8])\n",
    "days = unique(data1[!,7]);"
   ]
  },
  {
   "cell_type": "code",
   "execution_count": 16,
   "metadata": {
    "hidden": true
   },
   "outputs": [],
   "source": [
    "#define sizes \n",
    "# m = total number of start station clusters\n",
    "m= size(stations,1)\n",
    "# n = total number of time windows\n",
    "n = size(time_intervals,1)\n",
    "# o = total number of days\n",
    "o = size(days,1);\n"
   ]
  },
  {
   "cell_type": "code",
   "execution_count": 17,
   "metadata": {
    "hidden": true
   },
   "outputs": [],
   "source": [
    "r_ride = 1.15\n",
    "c_bike = 345;"
   ]
  },
  {
   "cell_type": "markdown",
   "metadata": {
    "heading_collapsed": true
   },
   "source": [
    "# Optimization Model"
   ]
  },
  {
   "cell_type": "code",
   "execution_count": 20,
   "metadata": {
    "hidden": true
   },
   "outputs": [
    {
     "data": {
      "text/plain": [
       "optimize_distribution (generic function with 1 method)"
      ]
     },
     "execution_count": 20,
     "metadata": {},
     "output_type": "execute_result"
    }
   ],
   "source": [
    "function optimize_distribution(data)\n",
    "    #initialize model\n",
    "    mod = Model(solver = GurobiSolver())\n",
    "\n",
    "    #decision variables\n",
    "    @variable(mod,x[i=1:m,t=1:n,d=1:o]>= 0)\n",
    "    @variable(mod,d[i=1:m,j=1:m,t=1:n,l=1:o] >= 0,Int)\n",
    "\n",
    "    #objective function\n",
    "    @objective(mod,Max,sum(d[i,j,t,l] for i=1:m,j=1:m,t=1:n,l=1:o))\n",
    "\n",
    "\n",
    "    #constraints\n",
    "    @constraint(mod,[i=1:m,t=1:n-1,l=1:o],x[i,t,l] - sum(d[i,j,t,l] for j=1:m) + sum(d[j,i,t,l] for j=1:m)-x[i,t+1,l]==0)\n",
    "    @constraint(mod,[d=1:o], sum(x[i,1,d] for i=1:m) == sum(x[i,1,1] for i=1:m))\n",
    "    @constraint(mod,[i=1:size(data,1)],d[data[i,:start_area],data[i,:end_area],data[i,:Hour]+1,data[i,:Day]] <= data[i,:dep_flow])\n",
    "    @constraint(mod,[i=1:m,t=1:n,l=1:o],d[i,i,t,l]==0)\n",
    "    @constraint(mod,r_ride*sum(d[i,j,t,l] for i=1:m,j=1:m,t=1:n,l=1:o) - c_bike*sum(x[i,1,1] for i=1:m) >= -200000)\n",
    "\n",
    "\n",
    "\n",
    "    #solve model\n",
    "    status = solve(mod)\n",
    "    \n",
    "    return sum(getvalue(x)[:,1,1]),getvalue(d),getobjectivevalue(mod)\n",
    "end\n",
    "\n"
   ]
  },
  {
   "cell_type": "code",
   "execution_count": 21,
   "metadata": {
    "hidden": true
   },
   "outputs": [
    {
     "name": "stdout",
     "output_type": "stream",
     "text": [
      "Academic license - for non-commercial use only\n",
      "Warning for adding constraints: zero or small (< 1e-13) coefficients, ignored\n",
      "Gurobi Optimizer version 9.0.3 build v9.0.3rc0 (mac64)\n",
      "Optimize a model with 1870531 rows, 1836000 columns and 7088950 nonzeros\n",
      "Model fingerprint: 0x8997650e\n",
      "Variable types: 36000 continuous, 1800000 integer (0 binary)\n",
      "Coefficient statistics:\n",
      "  Matrix range     [1e+00, 3e+02]\n",
      "  Objective range  [1e+00, 1e+00]\n",
      "  Bounds range     [0e+00, 0e+00]\n",
      "  RHS range        [1e+00, 2e+05]\n",
      "Found heuristic solution: objective 1463.0000000\n",
      "Presolve removed 1852443 rows and 1746517 columns (presolve time = 5s) ...\n",
      "Presolve removed 1852443 rows and 1746528 columns\n",
      "Presolve time: 8.84s\n",
      "Presolved: 18088 rows, 89472 columns, 249573 nonzeros\n",
      "Variable types: 18058 continuous, 71414 integer (53421 binary)\n",
      "\n",
      "Deterministic concurrent LP optimizer: primal and dual simplex\n",
      "Showing first log only...\n",
      "\n",
      "\n",
      "Root simplex log...\n",
      "\n",
      "Iteration    Objective       Primal Inf.    Dual Inf.      Time\n",
      "       0    1.4630000e+03   0.000000e+00   5.741041e+05     10s\n",
      "Concurrent spin time: 0.00s\n",
      "\n",
      "Solved with dual simplex\n",
      "\n",
      "Root relaxation: objective 1.005090e+05, 7162 iterations, 0.28 seconds\n",
      "\n",
      "    Nodes    |    Current Node    |     Objective Bounds      |     Work\n",
      " Expl Unexpl |  Obj  Depth IntInf | Incumbent    BestBd   Gap | It/Node Time\n",
      "\n",
      "*    0     0               0    100509.00000 100509.000  0.00%     -   10s\n",
      "\n",
      "Explored 0 nodes (7162 simplex iterations) in 10.45 seconds\n",
      "Thread count was 8 (of 8 available processors)\n",
      "\n",
      "Solution count 2: 100509 1463 \n",
      "\n",
      "Optimal solution found (tolerance 1.00e-04)\n",
      "Best objective 1.005090000000e+05, best bound 1.005090000000e+05, gap 0.0000%\n"
     ]
    },
    {
     "data": {
      "text/plain": [
       "(564.0, [-0.0 0.0 … 0.0 0.0; 0.0 -0.0 … 0.0 0.0; … ; 0.0 0.0 … -0.0 0.0; 0.0 0.0 … 0.0 -0.0]\n",
       "\n",
       "[-0.0 0.0 … 0.0 0.0; 0.0 -0.0 … 0.0 0.0; … ; 0.0 0.0 … -0.0 0.0; 0.0 0.0 … 0.0 -0.0]\n",
       "\n",
       "[-0.0 0.0 … 0.0 0.0; 0.0 -0.0 … 0.0 0.0; … ; 0.0 0.0 … -0.0 0.0; 0.0 0.0 … 0.0 -0.0]\n",
       "\n",
       "...\n",
       "\n",
       "[-0.0 0.0 … 0.0 0.0; 0.0 -0.0 … 0.0 0.0; … ; 0.0 0.0 … -0.0 0.0; 0.0 0.0 … 0.0 -0.0]\n",
       "\n",
       "[-0.0 0.0 … 0.0 0.0; 0.0 -0.0 … 0.0 0.0; … ; 0.0 0.0 … -0.0 0.0; 0.0 0.0 … 0.0 -0.0]\n",
       "\n",
       "[-0.0 0.0 … 0.0 0.0; 0.0 -0.0 … 0.0 0.0; … ; 0.0 0.0 … -0.0 0.0; 0.0 0.0 … 0.0 -0.0]\n",
       "\n",
       "[-0.0 0.0 … 0.0 0.0; 0.0 -0.0 … 0.0 0.0; … ; 0.0 0.0 … -0.0 0.0; 0.0 0.0 … 0.0 -0.0]\n",
       "\n",
       "[-0.0 0.0 … 0.0 0.0; 0.0 -0.0 … 0.0 0.0; … ; 0.0 0.0 … -0.0 0.0; 0.0 0.0 … 0.0 -0.0]\n",
       "\n",
       "[-0.0 0.0 … 0.0 0.0; 0.0 -0.0 … 0.0 0.0; … ; 0.0 0.0 … -0.0 0.0; 0.0 0.0 … 0.0 -0.0]\n",
       "\n",
       "...\n",
       "\n",
       "[-0.0 1.0 … 0.0 0.0; 0.0 -0.0 … 0.0 0.0; … ; 0.0 0.0 … -0.0 0.0; 0.0 0.0 … 0.0 -0.0]\n",
       "\n",
       "[-0.0 0.0 … 0.0 0.0; 0.0 -0.0 … 0.0 0.0; … ; 0.0 0.0 … -0.0 0.0; 0.0 0.0 … 0.0 -0.0]\n",
       "\n",
       "[-0.0 0.0 … 0.0 0.0; 0.0 -0.0 … 0.0 0.0; … ; 0.0 0.0 … -0.0 0.0; 0.0 0.0 … 0.0 -0.0]\n",
       "\n",
       "[-0.0 0.0 … 0.0 0.0; 0.0 -0.0 … 0.0 0.0; … ; 0.0 0.0 … -0.0 0.0; 0.0 0.0 … 0.0 -0.0]\n",
       "\n",
       "[-0.0 0.0 … 0.0 0.0; 0.0 -0.0 … 0.0 0.0; … ; 0.0 0.0 … -0.0 0.0; 0.0 0.0 … 0.0 -0.0]\n",
       "\n",
       "[-0.0 0.0 … 0.0 0.0; 0.0 -0.0 … 0.0 0.0; … ; 0.0 0.0 … -0.0 0.0; 0.0 0.0 … 0.0 -0.0]\n",
       "\n",
       "...\n",
       "\n",
       "[-0.0 0.0 … 0.0 0.0; 0.0 -0.0 … 0.0 0.0; … ; 0.0 0.0 … -0.0 0.0; 0.0 0.0 … 0.0 -0.0]\n",
       "\n",
       "[-0.0 0.0 … 0.0 0.0; 0.0 -0.0 … 0.0 0.0; … ; 0.0 0.0 … -0.0 0.0; 0.0 0.0 … 0.0 -0.0]\n",
       "\n",
       "[-0.0 0.0 … 0.0 0.0; 0.0 -0.0 … 0.0 0.0; … ; 0.0 0.0 … -0.0 0.0; 0.0 0.0 … 0.0 -0.0]\n",
       "\n",
       "...\n",
       "\n",
       "[-0.0 0.0 … 0.0 0.0; 0.0 -0.0 … 0.0 0.0; … ; 0.0 0.0 … -0.0 0.0; 0.0 0.0 … 0.0 -0.0]\n",
       "\n",
       "[-0.0 0.0 … 0.0 0.0; 0.0 -0.0 … 0.0 0.0; … ; 0.0 0.0 … -0.0 0.0; 0.0 0.0 … 0.0 -0.0]\n",
       "\n",
       "[-0.0 0.0 … 0.0 0.0; 0.0 -0.0 … 0.0 0.0; … ; 0.0 0.0 … -0.0 0.0; 0.0 0.0 … 0.0 -0.0]\n",
       "\n",
       "...\n",
       "\n",
       "[-0.0 1.0 … 0.0 0.0; 0.0 -0.0 … 0.0 0.0; … ; 0.0 0.0 … -0.0 0.0; 0.0 0.0 … 0.0 -0.0]\n",
       "\n",
       "[-0.0 0.0 … 0.0 0.0; 0.0 -0.0 … 0.0 0.0; … ; 0.0 0.0 … -0.0 0.0; 0.0 0.0 … 0.0 -0.0]\n",
       "\n",
       "[-0.0 1.0 … 0.0 0.0; 0.0 -0.0 … 0.0 0.0; … ; 0.0 0.0 … -0.0 0.0; 0.0 0.0 … 0.0 -0.0]\n",
       "\n",
       "[-0.0 0.0 … 0.0 0.0; 0.0 -0.0 … 0.0 0.0; … ; 0.0 0.0 … -0.0 0.0; 0.0 0.0 … 0.0 -0.0]\n",
       "\n",
       "[-0.0 0.0 … 0.0 0.0; 0.0 -0.0 … 0.0 0.0; … ; 0.0 0.0 … -0.0 0.0; 0.0 0.0 … 0.0 -0.0]\n",
       "\n",
       "[-0.0 0.0 … 0.0 0.0; 0.0 -0.0 … 0.0 0.0; … ; 0.0 0.0 … -0.0 0.0; 0.0 0.0 … 0.0 -0.0]\n",
       "\n",
       "...\n",
       "\n",
       "[-0.0 0.0 … 0.0 0.0; 0.0 -0.0 … 0.0 0.0; … ; 0.0 1.0 … -0.0 0.0; 0.0 0.0 … 0.0 -0.0]\n",
       "\n",
       "[-0.0 0.0 … 0.0 0.0; 0.0 -0.0 … 0.0 0.0; … ; 0.0 0.0 … -0.0 0.0; 0.0 0.0 … 0.0 -0.0]\n",
       "\n",
       "[-0.0 0.0 … 0.0 0.0; 0.0 -0.0 … 0.0 0.0; … ; 0.0 0.0 … -0.0 0.0; 0.0 0.0 … 0.0 -0.0]\n",
       "\n",
       "[-0.0 0.0 … 0.0 0.0; 0.0 -0.0 … 0.0 0.0; … ; 0.0 0.0 … -0.0 0.0; 0.0 0.0 … 0.0 -0.0]\n",
       "\n",
       "[-0.0 0.0 … 0.0 0.0; 0.0 -0.0 … 0.0 0.0; … ; 0.0 0.0 … -0.0 0.0; 0.0 0.0 … 0.0 -0.0]\n",
       "\n",
       "[-0.0 0.0 … 0.0 0.0; 0.0 -0.0 … 0.0 0.0; … ; 0.0 0.0 … -0.0 0.0; 0.0 0.0 … 0.0 -0.0]\n",
       "\n",
       "...\n",
       "\n",
       "[-0.0 0.0 … 0.0 0.0; 0.0 -0.0 … 0.0 0.0; … ; 0.0 0.0 … -0.0 0.0; 0.0 0.0 … 0.0 -0.0]\n",
       "\n",
       "[-0.0 0.0 … 0.0 0.0; 0.0 -0.0 … 0.0 0.0; … ; 0.0 0.0 … -0.0 0.0; 0.0 0.0 … 0.0 -0.0]\n",
       "\n",
       "[-0.0 0.0 … 0.0 0.0; 0.0 -0.0 … 0.0 0.0; … ; 0.0 0.0 … -0.0 0.0; 0.0 0.0 … 0.0 -0.0], 100509.0)"
      ]
     },
     "execution_count": 21,
     "metadata": {},
     "output_type": "execute_result"
    }
   ],
   "source": [
    "optimize_distribution(data1)"
   ]
  },
  {
   "cell_type": "markdown",
   "metadata": {
    "heading_collapsed": true
   },
   "source": [
    "# Baseline Model"
   ]
  },
  {
   "cell_type": "code",
   "execution_count": 75,
   "metadata": {
    "hidden": true
   },
   "outputs": [
    {
     "data": {
      "text/plain": [
       "baseline_distribution (generic function with 1 method)"
      ]
     },
     "execution_count": 75,
     "metadata": {},
     "output_type": "execute_result"
    }
   ],
   "source": [
    "function baseline_distribution(min_bikes,data)\n",
    "    uniform_dist = round(min_bikes/m)\n",
    "    mod = Model(solver = GurobiSolver())\n",
    "\n",
    "    #decision variables\n",
    "    @variable(mod,x[i=1:m,t=1:n,l=1:o]>= 0)\n",
    "    @variable(mod,d[i=1:m,j=1:m,t=1:n,l=1:o] >= 0)\n",
    "\n",
    "    #objective function\n",
    "    @objective(mod,Max,sum(d[i,j,t,l] for i=1:m,j=1:m,t=1:n,l=1:o))\n",
    "\n",
    "\n",
    "    #constraints\n",
    "    @constraint(mod,[i=1:m,t=1:n-1,l=1:o],x[i,t,l] - sum(d[i,j,t,l] for j=1:m) + sum(d[j,i,t,l] for j=1:m)-x[i,t+1,l]==0)\n",
    "    @constraint(mod,[d=1:o], sum(x[i,1,d] for i=1:m) == sum(x[i,1,1] for i=1:m))\n",
    "    @constraint(mod,[i=1:size(data,1)],d[data[i,:start_area],data[i,:end_area],data[i,:Hour]+1,data[i,:Day]] <= data[i,:dep_flow])\n",
    "    @constraint(mod,[i=1:m,t=1:n,l=1:o],d[i,i,t,l]==0)\n",
    "    @constraint(mod,[i=1:m,d=1:o],x[i,1,d]==uniform_dist)\n",
    "#     @constraint(mod,r_ride*sum(d[i,j,t,l] for i=1:m,j=1:m,t=1:n,l=1:o) - c_bike*sum(x[i,1,1] for i=1:m) >= -200000)\n",
    "\n",
    "    status = solve(mod)\n",
    "    \n",
    "    return getvalue(d)\n",
    "end\n"
   ]
  },
  {
   "cell_type": "markdown",
   "metadata": {},
   "source": [
    "# Everything Above is Useless, The Real Shit Starts from Here"
   ]
  },
  {
   "cell_type": "markdown",
   "metadata": {},
   "source": [
    "Instructions to run this baby:\n",
    "1. Make sure your files are named properly and that you have the csv files for all 4 scenarios for the months you want to run the model for. The file naming convention is \"mmmmyy_filter_agg_scenx.csv\" .For example, \"sept19_filter_agg_scen1.csv\"\n",
    "2. Every csv file should have the following columns with this exact naming convention: \"start_area\", \"end_area\", \"dep_flow\",\"Hour\"(0-23),\"Day\"(1-30/31).\n",
    "3. Run the functions below and then call the compute_everything function. The arguments to this function are \n",
    "    - a list of months you want to compute everything. For example - [\"sept19\",\"may18\",\"oct20\"]. Every month in this list should match the way the month is spelt in the dataset. \n",
    "    - The acceptable total loss per month (eg 200000)\n",
    "    - Operational Revenue - Operational costs (we discussed this number to be 1.15)\n",
    "    - Fixed cost of a bike (we discussed this to be 200)\n",
    "    - example call of the function - main_result = compute_everything([\"sept19\"],200000,1.15,200)\n",
    "4. The function ouputs the following:\n",
    "    - A CSV file with the optimal number of bikes per station per day for each month in the list of months\n",
    "    - A CSV file with the optimal model allowed flows for Scenario 1.\n",
    "    - A dataframe with the following information for each month (each row of the dataframe corresponds to one month in the list of months: Minimum Number of Bikes from the optimal model, Number of missed rides for the optimal and baseline scenarios, number of met rides for the optimal and baseline scenarios."
   ]
  },
  {
   "cell_type": "code",
   "execution_count": 3,
   "metadata": {
    "ExecuteTime": {
     "end_time": "2020-11-23T19:36:15.567000-05:00",
     "start_time": "2020-11-24T00:36:05.036Z"
    }
   },
   "outputs": [],
   "source": [
    "using JuMP, Gurobi, DataFrames, CSV, Plots"
   ]
  },
  {
   "cell_type": "markdown",
   "metadata": {},
   "source": [
    "# Stochastic Model"
   ]
  },
  {
   "cell_type": "code",
   "execution_count": 4,
   "metadata": {
    "ExecuteTime": {
     "end_time": "2020-11-23T19:36:21.354000-05:00",
     "start_time": "2020-11-24T00:36:05.986Z"
    }
   },
   "outputs": [
    {
     "data": {
      "text/plain": [
       "compute_missed_rides (generic function with 1 method)"
      ]
     },
     "execution_count": 4,
     "metadata": {},
     "output_type": "execute_result"
    }
   ],
   "source": [
    "function compute_missed_rides(data,d)\n",
    "    missed_rides = [(data[i,:dep_flow]-d[data[i,:start_area],data[i,:end_area],data[i,:Hour]+1,data[i,:Day]])\n",
    "    for i=1:size(data,1)]\n",
    "    return sum(missed_rides)\n",
    "end"
   ]
  },
  {
   "cell_type": "code",
   "execution_count": 26,
   "metadata": {
    "ExecuteTime": {
     "end_time": "2020-11-23T21:31:25.147000-05:00",
     "start_time": "2020-11-24T02:31:24.851Z"
    }
   },
   "outputs": [
    {
     "data": {
      "text/plain": [
       "stochastic_model (generic function with 1 method)"
      ]
     },
     "execution_count": 26,
     "metadata": {},
     "output_type": "execute_result"
    }
   ],
   "source": [
    "#### stochastic optimization model\n",
    "function stochastic_model(data1,data2,data3,data4,acceptable_loss,r_ride,c_bike)\n",
    "    \n",
    "    # m = total number of start station clusters\n",
    "    m= size(unique(data1[!,:start_area]),1)\n",
    "    # n = total number of time windows\n",
    "    n = size(unique(data1[!,:Hour]),1)\n",
    "    # o = total number of days\n",
    "    o = size(unique(data1[!,:Day]),1)\n",
    "    \n",
    "    #1. initialize model\n",
    "    \n",
    "    mod = Model(solver = GurobiSolver())\n",
    "    \n",
    "    #2. decision variables\n",
    "    @variable(mod,x[i=1:m,t=1:n,d=1:o,s=1:4]>= 0,Int)\n",
    "    @variable(mod,d[i=1:m,j=1:m,t=1:n,l=1:o,s=1:4] >= 0,Int)\n",
    "    @variable(mod, max_stat, Int)\n",
    "    @variable(mod, num_bikes, Int)\n",
    "    \n",
    "    #3. objective function\n",
    "    @objective(mod,Max,(sum(d[i,j,t,l,s] for i=1:m,j=1:m,t=1:n,l=1:o,s=1:4)/4) - 0.0001*max_stat \n",
    "        - 0.0001*sum(x[i,1,l,s] for i=1:m,l=1:o,s=1:4))\n",
    "    \n",
    "    \n",
    "    #4. constraints\n",
    "    @constraint(mod,[i=1:m,t=1:n-1,l=1:o,s=1:4],x[i,t,l,s] - sum(d[i,j,t,l,s] for j=1:m) + sum(d[j,i,t,l,s] for j=1:m)-x[i,t+1,l,s]==0)\n",
    "#     @constraint(mod,[d=1:o,s=1:4], sum(x[i,1,d,s] for i=1:m) == sum(x[i,1,1,1] for i=1:m))\n",
    "    @constraint(mod,[d=1:o,s=1:4], sum(x[i,1,d,s] for i=1:m) <= num_bikes)\n",
    "    @constraint(mod,[i=1:size(data1,1)],d[data1[i,:start_area],data1[i,:end_area],data1[i,:Hour]+1,data1[i,:Day],1] <= data1[i,:dep_flow])\n",
    "    @constraint(mod,[i=1:size(data2,1)],d[data2[i,:start_area],data2[i,:end_area],data2[i,:Hour]+1,data2[i,:Day],2] <= data2[i,:dep_flow])\n",
    "    @constraint(mod,[i=1:size(data3,1)],d[data3[i,:start_area],data3[i,:end_area],data3[i,:Hour]+1,data3[i,:Day],3] <= data3[i,:dep_flow])\n",
    "    @constraint(mod,[i=1:size(data4,1)],d[data4[i,:start_area],data4[i,:end_area],data4[i,:Hour]+1,data4[i,:Day],4] <= data4[i,:dep_flow])\n",
    "#     @constraint(mod,[i=1:m,t=1:n,l=1:o,s=1:4],d[i,i,t,l,s]==0)\n",
    "\n",
    "    @constraint(mod,r_ride*(sum(d[i,j,t,l,s] for i=1:m,j=1:m,t=1:n,l=1:o,s=1:4)/4) - c_bike*num_bikes >= -acceptable_loss)\n",
    "    @constraint(mod,[i=1:m,d=1:o,s=1:4], max_stat >= x[i,1,d,s])\n",
    "    \n",
    "    #5. solve model\n",
    "    status = solve(mod)\n",
    "    \n",
    "    #6. Compute missed rides and average it for the 4 scenarios\n",
    "    missed_rides1 = compute_missed_rides(data1,getvalue(d)[:,:,:,:,1])\n",
    "    missed_rides2 = compute_missed_rides(data2,getvalue(d)[:,:,:,:,2])\n",
    "    missed_rides3 = compute_missed_rides(data3,getvalue(d)[:,:,:,:,3])\n",
    "    missed_rides4 = compute_missed_rides(data4,getvalue(d)[:,:,:,:,4])\n",
    "    avg_missed_rides = round((missed_rides1+missed_rides2+missed_rides3+missed_rides4)/4)\n",
    "    \n",
    "    #7. Compute number of rides met and average it for each scenario\n",
    "    avg_met_rides = round(sum(getvevalue(d)[:,:,:,:,:])/4)\n",
    "    number_bikes = getvalue(num_bikes)\n",
    "    \n",
    "    #8. Input number of bikes per station per day into a dataframe (only for scenario 3)\n",
    "    bikes = getvalue(x)[:,:,:,3] ### Focus on scenario 3 here\n",
    "    x_df = DataFrame(Station=Int[],Hour=Int[],Day=Int[],Num_Bikes=Int[])\n",
    "    for i=1:m\n",
    "        for j=1:n\n",
    "            for k=1:o\n",
    "                push!(x_df,[i,j,k,bikes[i,j,k]])\n",
    "            end\n",
    "        end\n",
    "    end\n",
    "    \n",
    "    \n",
    "    #9. Input allowed flows from scenario 3 into its dataframe (data1) ## Let's focus on scenario 3 since it's the biggest one.\n",
    "    flows= getvalue(d)[:,:,:,:,3]\n",
    "    allowed_flows = []\n",
    "    for i in 1:size(data3,1)\n",
    "        append!(allowed_flows,flows[data1[i,:start_area],data3[i,:end_area],data3[i,:Hour]+1,data3[i,:Day]])\n",
    "    end\n",
    "    \n",
    "    data3[:allowed_flows] = allowed_flows\n",
    "    final_flows_data = data3[:,:]\n",
    "    \n",
    "    \n",
    "    \n",
    "    #10. return # Careful what we return\n",
    "    return number_bikes,avg_missed_rides,avg_met_rides,x_df,final_flows_data\n",
    "    \n",
    "end"
   ]
  },
  {
   "cell_type": "markdown",
   "metadata": {},
   "source": [
    "# Stochastic Baseline "
   ]
  },
  {
   "cell_type": "code",
   "execution_count": 27,
   "metadata": {
    "ExecuteTime": {
     "end_time": "2020-11-23T21:31:27.356000-05:00",
     "start_time": "2020-11-24T02:31:27.021Z"
    }
   },
   "outputs": [
    {
     "data": {
      "text/plain": [
       "stochastic_baseline (generic function with 1 method)"
      ]
     },
     "execution_count": 27,
     "metadata": {},
     "output_type": "execute_result"
    }
   ],
   "source": [
    "function stochastic_baseline(data1,data2,data3,data4,min_bikes,r_ride,c_bike)\n",
    "    # m = total number of start station clusters\n",
    "    m= size(unique(data1[!,:start_area]),1)\n",
    "    # n = total number of time windows\n",
    "    n = size(unique(data1[!,:Hour]),1)\n",
    "    # o = total number of days\n",
    "    o = size(unique(data1[!,:Day]),1)\n",
    "    \n",
    "    #1. uniform_dist = uniformly distributed number of bikes at each station\n",
    "    uniform_dist = round(min_bikes/m)\n",
    "    \n",
    "    #2. initialize model\n",
    "    \n",
    "    mod = Model(solver = GurobiSolver())\n",
    "    \n",
    "    #3. decision variables\n",
    "    @variable(mod,x[i=1:m,t=1:n,d=1:o,s=1:4]>= 0,Int)\n",
    "    @variable(mod,d[i=1:m,j=1:m,t=1:n,l=1:o,s=1:4] >= 0,Int)\n",
    "    \n",
    "    #4. objective function\n",
    "    @objective(mod,Max,sum(d[i,j,t,l,s] for i=1:m,j=1:m,t=1:n,l=1:o,s=1:4)/4)\n",
    "    \n",
    "    \n",
    "    #5. constraints\n",
    "    @constraint(mod,[i=1:m,t=1:n-1,l=1:o,s=1:4],x[i,t,l,s] - sum(d[i,j,t,l,s] for j=1:m) + sum(d[j,i,t,l,s] for j=1:m)-x[i,t+1,l,s]==0)\n",
    "    @constraint(mod,[d=1:o,s=1:4], sum(x[i,1,d,s] for i=1:m) == sum(x[i,1,1,1] for i=1:m))\n",
    "    @constraint(mod,[i=1:size(data1,1)],d[data1[i,:start_area],data1[i,:end_area],data1[i,:Hour]+1,data1[i,:Day],1] <= data1[i,:dep_flow])\n",
    "    @constraint(mod,[i=1:size(data2,1)],d[data2[i,:start_area],data2[i,:end_area],data2[i,:Hour]+1,data2[i,:Day],2] <= data2[i,:dep_flow])\n",
    "    @constraint(mod,[i=1:size(data3,1)],d[data3[i,:start_area],data3[i,:end_area],data3[i,:Hour]+1,data3[i,:Day],3] <= data3[i,:dep_flow])\n",
    "    @constraint(mod,[i=1:size(data4,1)],d[data4[i,:start_area],data4[i,:end_area],data4[i,:Hour]+1,data4[i,:Day],4] <= data4[i,:dep_flow])\n",
    "    @constraint(mod,[i=1:m,t=1:n,l=1:o,s=1:4],d[i,i,t,l,s]==0)\n",
    "    @constraint(mod,[i=1:m,d=1:o,s=1:4],x[i,1,d,s]==uniform_dist)\n",
    "    \n",
    "    #6. solve model\n",
    "    status = solve(mod)\n",
    "    \n",
    "    #7. Compute missed rides and average it for the 4 scenarios\n",
    "    missed_rides1 = compute_missed_rides(data1,getvalue(d)[:,:,:,:,1])\n",
    "    missed_rides2 = compute_missed_rides(data2,getvalue(d)[:,:,:,:,2])\n",
    "    missed_rides3 = compute_missed_rides(data3,getvalue(d)[:,:,:,:,3])\n",
    "    missed_rides4 = compute_missed_rides(data4,getvalue(d)[:,:,:,:,4])\n",
    "    avg_missed_rides = (missed_rides1+missed_rides2+missed_rides3+missed_rides4)/4\n",
    "    \n",
    "    #8. Compute number of rides met and average it for each scenario\n",
    "    avg_met_rides = getobjectivevalue(mod)\n",
    "   \n",
    "    \n",
    "    #9. return\n",
    "    return avg_missed_rides,avg_met_rides\n",
    "    \n",
    "end\n",
    "    "
   ]
  },
  {
   "cell_type": "markdown",
   "metadata": {},
   "source": [
    "# Main Function That Computes Everything"
   ]
  },
  {
   "cell_type": "code",
   "execution_count": 28,
   "metadata": {
    "ExecuteTime": {
     "end_time": "2020-11-23T21:31:29.456000-05:00",
     "start_time": "2020-11-24T02:31:28.354Z"
    }
   },
   "outputs": [
    {
     "data": {
      "text/plain": [
       "compute_everything (generic function with 1 method)"
      ]
     },
     "execution_count": 28,
     "metadata": {},
     "output_type": "execute_result"
    }
   ],
   "source": [
    "function compute_everything(month_list,acceptable_loss,r_ride,c_bike)\n",
    "    main_df = DataFrame(Month=String[],Min_Bikes=Int[],Missed_Optimal=Int[],\n",
    "    Missed_Baseline=Int[],Met_Optimal=Int[],Met_Baseline=Int[])\n",
    "        \n",
    "    #read in datasets for the 4 scenarios\n",
    "\n",
    "    data1 = CSV.read(\"$month_list\"*\"_filter_agg_scen1.csv\")\n",
    "    data2 = CSV.read(\"$month_list\"*\"_filter_agg_scen2.csv\")\n",
    "    data3 = CSV.read(\"$month_list\"*\"_filter_agg_scen3.csv\")\n",
    "    data4 = CSV.read(\"$month_list\"*\"_filter_agg_scen4.csv\")\n",
    "\n",
    "    #define sizes - do it for one dataset because its the same for all 4 scenarios\n",
    "\n",
    "    # m = total number of start station clusters\n",
    "    m= size(unique(data1[!,:start_area]),1)\n",
    "    # n = total number of time windows\n",
    "    n = size(unique(data1[!,:Hour]),1)\n",
    "    # o = total number of days\n",
    "    o = size(unique(data1[!,:Day]),1)\n",
    "\n",
    "    #run optimal model and get outputs\n",
    "    optimal_solution = stochastic_model(data1,data2,data3,data4,acceptable_loss,r_ride,c_bike)\n",
    "    Min_Bikes = optimal_solution[1]\n",
    "    Missed_Optimal = optimal_solution[2]\n",
    "    Met_Optimal = optimal_solution[3]\n",
    "    CSV.write(\"$month_list\"*\"_bike_distribution.csv\",optimal_solution[4])\n",
    "    println(Min_Bikes, Missed_Optimal, Met_Optimal)\n",
    "#         CSV.write(\"$i\"*\"_flows.csv\",optimal_solution[5])\n",
    "\n",
    "    #run baseline model and get outputs\n",
    "#         baseline_solution = stochastic_baseline(data1,data2,data3,data4,Min_Bikes,r_ride,c_bike)\n",
    "#         Missed_Baseline = baseline_solution[1]\n",
    "#         Met_Baseline = baseline_solution[2]\n",
    "\n",
    "\n",
    "#         #push values into main dataframe\n",
    "#         push!(main_df,[i,round(Min_Bikes),\n",
    "#                 round(Missed_Optimal),round(Missed_Baseline),round(Met_Optimal),round(Met_Baseline)])\n",
    "    \n",
    "    return Min_Bikes, Missed_Optimal, Met_Optimal\n",
    "end"
   ]
  },
  {
   "cell_type": "code",
   "execution_count": 29,
   "metadata": {
    "ExecuteTime": {
     "end_time": "2020-11-23T21:33:33.303000-05:00",
     "start_time": "2020-11-24T02:31:42.213Z"
    }
   },
   "outputs": [
    {
     "name": "stdout",
     "output_type": "stream",
     "text": [
      "Min_Bikes: 1057.0\n",
      "Missed_Optimal: 0.0\n",
      "Met_Optimal: 94967.824\n"
     ]
    }
   ],
   "source": [
    "output = compute_everything(\"sep19\",200000,1.15,200) # From 200,000 to 180,000\n",
    "\n",
    "IJulia.clear_output()\n",
    "\n",
    "println(\"Min_Bikes: \", output[1])\n",
    "println(\"Missed_Optimal: \", output[2])\n",
    "println(\"Met_Optimal: \", output[3])"
   ]
  },
  {
   "cell_type": "code",
   "execution_count": 17,
   "metadata": {
    "ExecuteTime": {
     "end_time": "2020-11-23T20:15:46.717000-05:00",
     "start_time": "2020-11-24T01:07:52.300Z"
    }
   },
   "outputs": [
    {
     "data": {
      "text/html": [
       "<table class=\"data-frame\"><thead><tr><th></th><th>Budget</th><th>Min_Bikes</th><th>Missed_Optimal</th><th>Met_Optimal</th></tr><tr><th></th><th>Int64</th><th>Int64</th><th>Int64</th><th>Int64</th></tr></thead><tbody><p>4 rows × 4 columns</p><tr><th>1</th><td>50000</td><td>625</td><td>8628</td><td>86340</td></tr><tr><th>2</th><td>100000</td><td>625</td><td>8628</td><td>86340</td></tr><tr><th>3</th><td>150000</td><td>757</td><td>8628</td><td>86340</td></tr><tr><th>4</th><td>200000</td><td>1007</td><td>8628</td><td>86340</td></tr></tbody></table>"
      ],
      "text/latex": [
       "\\begin{tabular}{r|cccc}\n",
       "\t& Budget & Min\\_Bikes & Missed\\_Optimal & Met\\_Optimal\\\\\n",
       "\t\\hline\n",
       "\t& Int64 & Int64 & Int64 & Int64\\\\\n",
       "\t\\hline\n",
       "\t1 & 50000 & 625 & 8628 & 86340 \\\\\n",
       "\t2 & 100000 & 625 & 8628 & 86340 \\\\\n",
       "\t3 & 150000 & 757 & 8628 & 86340 \\\\\n",
       "\t4 & 200000 & 1007 & 8628 & 86340 \\\\\n",
       "\\end{tabular}\n"
      ],
      "text/plain": [
       "4×4 DataFrame\n",
       "│ Row │ Budget │ Min_Bikes │ Missed_Optimal │ Met_Optimal │\n",
       "│     │ \u001b[90mInt64\u001b[39m  │ \u001b[90mInt64\u001b[39m     │ \u001b[90mInt64\u001b[39m          │ \u001b[90mInt64\u001b[39m       │\n",
       "├─────┼────────┼───────────┼────────────────┼─────────────┤\n",
       "│ 1   │ 50000  │ 625       │ 8628           │ 86340       │\n",
       "│ 2   │ 100000 │ 625       │ 8628           │ 86340       │\n",
       "│ 3   │ 150000 │ 757       │ 8628           │ 86340       │\n",
       "│ 4   │ 200000 │ 1007      │ 8628           │ 86340       │"
      ]
     },
     "execution_count": 17,
     "metadata": {},
     "output_type": "execute_result"
    }
   ],
   "source": [
    "results_budg = DataFrame(Budget = Int[], Min_Bikes=Int[],Missed_Optimal=Int[], Met_Optimal=Int[])\n",
    "\n",
    "for budget in [50000, 100000, 150000, 200000]\n",
    "    output = compute_everything(\"sep19\",budget,1.15,200)\n",
    "    push!(results_budg, [budget, round(output[1]), round(output[2]), round(output[3])])\n",
    "end\n",
    "\n",
    "IJulia.clear_output()\n",
    "\n",
    "results_budg"
   ]
  },
  {
   "cell_type": "code",
   "execution_count": 19,
   "metadata": {
    "ExecuteTime": {
     "end_time": "2020-11-23T20:27:04.445000-05:00",
     "start_time": "2020-11-24T01:21:12.599Z"
    }
   },
   "outputs": [
    {
     "data": {
      "text/html": [
       "<table class=\"data-frame\"><thead><tr><th></th><th>Budget</th><th>Min_Bikes</th><th>Missed_Optimal</th><th>Met_Optimal</th></tr><tr><th></th><th>Int64</th><th>Int64</th><th>Int64</th><th>Int64</th></tr></thead><tbody><p>3 rows × 4 columns</p><tr><th>1</th><td>10000</td><td>545</td><td>8828</td><td>86140</td></tr><tr><th>2</th><td>15000</td><td>570</td><td>8732</td><td>86236</td></tr><tr><th>3</th><td>20000</td><td>596</td><td>8662</td><td>86306</td></tr></tbody></table>"
      ],
      "text/latex": [
       "\\begin{tabular}{r|cccc}\n",
       "\t& Budget & Min\\_Bikes & Missed\\_Optimal & Met\\_Optimal\\\\\n",
       "\t\\hline\n",
       "\t& Int64 & Int64 & Int64 & Int64\\\\\n",
       "\t\\hline\n",
       "\t1 & 10000 & 545 & 8828 & 86140 \\\\\n",
       "\t2 & 15000 & 570 & 8732 & 86236 \\\\\n",
       "\t3 & 20000 & 596 & 8662 & 86306 \\\\\n",
       "\\end{tabular}\n"
      ],
      "text/plain": [
       "3×4 DataFrame\n",
       "│ Row │ Budget │ Min_Bikes │ Missed_Optimal │ Met_Optimal │\n",
       "│     │ \u001b[90mInt64\u001b[39m  │ \u001b[90mInt64\u001b[39m     │ \u001b[90mInt64\u001b[39m          │ \u001b[90mInt64\u001b[39m       │\n",
       "├─────┼────────┼───────────┼────────────────┼─────────────┤\n",
       "│ 1   │ 10000  │ 545       │ 8828           │ 86140       │\n",
       "│ 2   │ 15000  │ 570       │ 8732           │ 86236       │\n",
       "│ 3   │ 20000  │ 596       │ 8662           │ 86306       │"
      ]
     },
     "execution_count": 19,
     "metadata": {},
     "output_type": "execute_result"
    }
   ],
   "source": [
    "results_budg2 = DataFrame(Budget = Int[], Min_Bikes=Int[],Missed_Optimal=Int[], Met_Optimal=Int[])\n",
    "\n",
    "for budget in [10000, 15000, 20000]\n",
    "    output = compute_everything(\"sep19\",budget,1.15,200)\n",
    "    push!(results_budg2, [budget, round(output[1]), round(output[2]), round(output[3])])\n",
    "end\n",
    "\n",
    "IJulia.clear_output()\n",
    "\n",
    "results_budg2"
   ]
  },
  {
   "cell_type": "code",
   "execution_count": 21,
   "metadata": {
    "ExecuteTime": {
     "end_time": "2020-11-23T20:34:55.475000-05:00",
     "start_time": "2020-11-24T01:34:55.468Z"
    }
   },
   "outputs": [
    {
     "data": {
      "text/html": [
       "<table class=\"data-frame\"><thead><tr><th></th><th>Budget</th><th>Min_Bikes</th><th>Missed_Optimal</th><th>Met_Optimal</th></tr><tr><th></th><th>Int64</th><th>Int64</th><th>Int64</th><th>Int64</th></tr></thead><tbody><p>3 rows × 4 columns</p><tr><th>1</th><td>0</td><td>493</td><td>9100</td><td>85868</td></tr><tr><th>2</th><td>2000</td><td>504</td><td>9036</td><td>85932</td></tr><tr><th>3</th><td>5000</td><td>519</td><td>8957</td><td>86011</td></tr></tbody></table>"
      ],
      "text/latex": [
       "\\begin{tabular}{r|cccc}\n",
       "\t& Budget & Min\\_Bikes & Missed\\_Optimal & Met\\_Optimal\\\\\n",
       "\t\\hline\n",
       "\t& Int64 & Int64 & Int64 & Int64\\\\\n",
       "\t\\hline\n",
       "\t1 & 0 & 493 & 9100 & 85868 \\\\\n",
       "\t2 & 2000 & 504 & 9036 & 85932 \\\\\n",
       "\t3 & 5000 & 519 & 8957 & 86011 \\\\\n",
       "\\end{tabular}\n"
      ],
      "text/plain": [
       "3×4 DataFrame\n",
       "│ Row │ Budget │ Min_Bikes │ Missed_Optimal │ Met_Optimal │\n",
       "│     │ \u001b[90mInt64\u001b[39m  │ \u001b[90mInt64\u001b[39m     │ \u001b[90mInt64\u001b[39m          │ \u001b[90mInt64\u001b[39m       │\n",
       "├─────┼────────┼───────────┼────────────────┼─────────────┤\n",
       "│ 1   │ 0      │ 493       │ 9100           │ 85868       │\n",
       "│ 2   │ 2000   │ 504       │ 9036           │ 85932       │\n",
       "│ 3   │ 5000   │ 519       │ 8957           │ 86011       │"
      ]
     },
     "execution_count": 21,
     "metadata": {},
     "output_type": "execute_result"
    }
   ],
   "source": [
    "results_budg3 = DataFrame(Budget = Int[], Min_Bikes=Int[],Missed_Optimal=Int[], Met_Optimal=Int[])\n",
    "\n",
    "for budget in [0, 2000, 5000]\n",
    "    output = compute_everything(\"sep19\",budget,1.15,200)\n",
    "    push!(results_budg3, [budget, round(output[1]), round(output[2]), round(output[3])])\n",
    "end\n",
    "\n",
    "IJulia.clear_output()\n",
    "\n",
    "results_budg3"
   ]
  },
  {
   "cell_type": "code",
   "execution_count": 22,
   "metadata": {
    "ExecuteTime": {
     "end_time": "2020-11-23T21:03:51.203000-05:00",
     "start_time": "2020-11-24T01:51:56.778Z"
    }
   },
   "outputs": [
    {
     "data": {
      "text/html": [
       "<table class=\"data-frame\"><thead><tr><th></th><th>Budget</th><th>Min_Bikes</th><th>Missed_Optimal</th><th>Met_Optimal</th></tr><tr><th></th><th>Int64</th><th>Int64</th><th>Int64</th><th>Int64</th></tr></thead><tbody><p>5 rows × 4 columns</p><tr><th>1</th><td>-10000</td><td>440</td><td>9646</td><td>85322</td></tr><tr><th>2</th><td>-5000</td><td>467</td><td>9329</td><td>85639</td></tr><tr><th>3</th><td>0</td><td>493</td><td>9100</td><td>85868</td></tr><tr><th>4</th><td>5000</td><td>519</td><td>8957</td><td>86011</td></tr><tr><th>5</th><td>10000</td><td>545</td><td>8828</td><td>86140</td></tr></tbody></table>"
      ],
      "text/latex": [
       "\\begin{tabular}{r|cccc}\n",
       "\t& Budget & Min\\_Bikes & Missed\\_Optimal & Met\\_Optimal\\\\\n",
       "\t\\hline\n",
       "\t& Int64 & Int64 & Int64 & Int64\\\\\n",
       "\t\\hline\n",
       "\t1 & -10000 & 440 & 9646 & 85322 \\\\\n",
       "\t2 & -5000 & 467 & 9329 & 85639 \\\\\n",
       "\t3 & 0 & 493 & 9100 & 85868 \\\\\n",
       "\t4 & 5000 & 519 & 8957 & 86011 \\\\\n",
       "\t5 & 10000 & 545 & 8828 & 86140 \\\\\n",
       "\\end{tabular}\n"
      ],
      "text/plain": [
       "5×4 DataFrame\n",
       "│ Row │ Budget │ Min_Bikes │ Missed_Optimal │ Met_Optimal │\n",
       "│     │ \u001b[90mInt64\u001b[39m  │ \u001b[90mInt64\u001b[39m     │ \u001b[90mInt64\u001b[39m          │ \u001b[90mInt64\u001b[39m       │\n",
       "├─────┼────────┼───────────┼────────────────┼─────────────┤\n",
       "│ 1   │ -10000 │ 440       │ 9646           │ 85322       │\n",
       "│ 2   │ -5000  │ 467       │ 9329           │ 85639       │\n",
       "│ 3   │ 0      │ 493       │ 9100           │ 85868       │\n",
       "│ 4   │ 5000   │ 519       │ 8957           │ 86011       │\n",
       "│ 5   │ 10000  │ 545       │ 8828           │ 86140       │"
      ]
     },
     "execution_count": 22,
     "metadata": {},
     "output_type": "execute_result"
    }
   ],
   "source": [
    "results_budg4 = DataFrame(Budget = Int[], Min_Bikes=Int[],Missed_Optimal=Int[], Met_Optimal=Int[])\n",
    "\n",
    "for budget in [-10000, -5000, 0, 5000, 10000]\n",
    "    output = compute_everything(\"sep19\",budget,1.15,200)\n",
    "    push!(results_budg4, [budget, round(output[1]), round(output[2]), round(output[3])])\n",
    "end\n",
    "\n",
    "IJulia.clear_output()\n",
    "\n",
    "results_budg4"
   ]
  },
  {
   "cell_type": "code",
   "execution_count": 24,
   "metadata": {
    "ExecuteTime": {
     "end_time": "2020-11-23T21:22:07.294000-05:00",
     "start_time": "2020-11-24T02:19:57.236Z"
    }
   },
   "outputs": [
    {
     "name": "stdout",
     "output_type": "stream",
     "text": [
      "Academic license - for non-commercial use only\n",
      "Warning for adding constraints: zero or small (< 1e-13) coefficients, ignored\n",
      "Gurobi Optimizer version 9.0.3 build v9.0.3rc0 (mac64)\n",
      "Optimize a model with 7488121 rows, 7344002 columns and 28362121 nonzeros\n",
      "Model fingerprint: 0x2063c422\n",
      "Variable types: 0 continuous, 7344002 integer (0 binary)\n",
      "Coefficient statistics:\n",
      "  Matrix range     [3e-01, 2e+02]\n",
      "  Objective range  [1e-04, 2e-01]\n",
      "  Bounds range     [0e+00, 0e+00]\n",
      "  RHS range        [1e+00, 2e+04]\n",
      "Presolve removed 7347007 rows and 150000 columns (presolve time = 7s) ...\n",
      "Presolve removed 7391329 rows and 7004488 columns (presolve time = 10s) ...\n",
      "Presolve removed 7415166 rows and 7028828 columns (presolve time = 15s) ...\n",
      "Presolve removed 7416022 rows and 7029727 columns (presolve time = 24s) ...\n",
      "Presolve removed 7416022 rows and 7029727 columns (presolve time = 25s) ...\n",
      "Presolve removed 7416022 rows and 7029727 columns\n",
      "Presolve time: 25.29s\n",
      "Presolved: 72099 rows, 314275 columns, 886054 nonzeros\n",
      "Variable types: 0 continuous, 314275 integer (187736 binary)\n",
      "\n",
      "Deterministic concurrent LP optimizer: primal and dual simplex\n",
      "Showing first log only...\n",
      "\n",
      "\n",
      "Root simplex log...\n",
      "\n",
      "Iteration    Objective       Primal Inf.    Dual Inf.      Time\n",
      "       0    1.2865000e+03   2.893832e+02   8.962085e+09     39s\n",
      "   47549    2.5181382e+03   2.672529e+02   1.876694e+10     40s\n",
      "Concurrent spin time: 1.85s\n",
      "\n",
      "Solved with dual simplex\n",
      "\n",
      "Root relaxation: objective 8.452197e+04, 31388 iterations, 6.42 seconds\n",
      "Total elapsed time = 46.74s\n",
      "Total elapsed time = 50.64s\n",
      "\n",
      "    Nodes    |    Current Node    |     Objective Bounds      |     Work\n",
      " Expl Unexpl |  Obj  Depth IntInf | Incumbent    BestBd   Gap | It/Node Time\n",
      "\n",
      "     0     0 84521.9731    0 1034          - 84521.9731      -     -   50s\n",
      "H    0     0                    84521.552800 84521.9731  0.00%     -   51s\n",
      "\n",
      "Explored 1 nodes (37745 simplex iterations) in 52.36 seconds\n",
      "Thread count was 8 (of 8 available processors)\n",
      "\n",
      "Solution count 1: 84521.6 \n",
      "\n",
      "Optimal solution found (tolerance 1.00e-04)\n",
      "Best objective 8.452155280000e+04, best bound 8.452197305028e+04, gap 0.0005%\n",
      "386.010447.084521.5528\n",
      "Here\n"
     ]
    },
    {
     "data": {
      "text/html": [
       "<table class=\"data-frame\"><thead><tr><th></th><th>Budget</th><th>Min_Bikes</th><th>Missed_Optimal</th><th>Met_Optimal</th></tr><tr><th></th><th>Int64</th><th>Int64</th><th>Int64</th><th>Int64</th></tr></thead><tbody><p>6 rows × 4 columns</p><tr><th>1</th><td>-10000</td><td>440</td><td>9646</td><td>85322</td></tr><tr><th>2</th><td>-5000</td><td>467</td><td>9329</td><td>85639</td></tr><tr><th>3</th><td>0</td><td>493</td><td>9100</td><td>85868</td></tr><tr><th>4</th><td>5000</td><td>519</td><td>8957</td><td>86011</td></tr><tr><th>5</th><td>10000</td><td>545</td><td>8828</td><td>86140</td></tr><tr><th>6</th><td>-20000</td><td>386</td><td>10447</td><td>84522</td></tr></tbody></table>"
      ],
      "text/latex": [
       "\\begin{tabular}{r|cccc}\n",
       "\t& Budget & Min\\_Bikes & Missed\\_Optimal & Met\\_Optimal\\\\\n",
       "\t\\hline\n",
       "\t& Int64 & Int64 & Int64 & Int64\\\\\n",
       "\t\\hline\n",
       "\t1 & -10000 & 440 & 9646 & 85322 \\\\\n",
       "\t2 & -5000 & 467 & 9329 & 85639 \\\\\n",
       "\t3 & 0 & 493 & 9100 & 85868 \\\\\n",
       "\t4 & 5000 & 519 & 8957 & 86011 \\\\\n",
       "\t5 & 10000 & 545 & 8828 & 86140 \\\\\n",
       "\t6 & -20000 & 386 & 10447 & 84522 \\\\\n",
       "\\end{tabular}\n"
      ],
      "text/plain": [
       "6×4 DataFrame\n",
       "│ Row │ Budget │ Min_Bikes │ Missed_Optimal │ Met_Optimal │\n",
       "│     │ \u001b[90mInt64\u001b[39m  │ \u001b[90mInt64\u001b[39m     │ \u001b[90mInt64\u001b[39m          │ \u001b[90mInt64\u001b[39m       │\n",
       "├─────┼────────┼───────────┼────────────────┼─────────────┤\n",
       "│ 1   │ -10000 │ 440       │ 9646           │ 85322       │\n",
       "│ 2   │ -5000  │ 467       │ 9329           │ 85639       │\n",
       "│ 3   │ 0      │ 493       │ 9100           │ 85868       │\n",
       "│ 4   │ 5000   │ 519       │ 8957           │ 86011       │\n",
       "│ 5   │ 10000  │ 545       │ 8828           │ 86140       │\n",
       "│ 6   │ -20000 │ 386       │ 10447          │ 84522       │"
      ]
     },
     "execution_count": 24,
     "metadata": {},
     "output_type": "execute_result"
    }
   ],
   "source": [
    "budget = -20000\n",
    "output = compute_everything(\"sep19\",budget,1.15,200)\n",
    "push!(results_budg4, [budget, round(output[1]), round(output[2]), round(output[3])])"
   ]
  },
  {
   "cell_type": "code",
   "execution_count": 25,
   "metadata": {
    "ExecuteTime": {
     "end_time": "2020-11-23T21:29:40.845000-05:00",
     "start_time": "2020-11-24T02:20:58.211Z"
    }
   },
   "outputs": [
    {
     "data": {
      "text/html": [
       "<table class=\"data-frame\"><thead><tr><th></th><th>Budget</th><th>Min_Bikes</th><th>Missed_Optimal</th><th>Met_Optimal</th></tr><tr><th></th><th>Int64</th><th>Int64</th><th>Int64</th><th>Int64</th></tr></thead><tbody><p>8 rows × 4 columns</p><tr><th>1</th><td>-10000</td><td>440</td><td>9646</td><td>85322</td></tr><tr><th>2</th><td>-5000</td><td>467</td><td>9329</td><td>85639</td></tr><tr><th>3</th><td>0</td><td>493</td><td>9100</td><td>85868</td></tr><tr><th>4</th><td>5000</td><td>519</td><td>8957</td><td>86011</td></tr><tr><th>5</th><td>10000</td><td>545</td><td>8828</td><td>86140</td></tr><tr><th>6</th><td>-20000</td><td>386</td><td>10447</td><td>84522</td></tr><tr><th>7</th><td>-40000</td><td>270</td><td>13132</td><td>81837</td></tr><tr><th>8</th><td>-60000</td><td>134</td><td>19452</td><td>75519</td></tr></tbody></table>"
      ],
      "text/latex": [
       "\\begin{tabular}{r|cccc}\n",
       "\t& Budget & Min\\_Bikes & Missed\\_Optimal & Met\\_Optimal\\\\\n",
       "\t\\hline\n",
       "\t& Int64 & Int64 & Int64 & Int64\\\\\n",
       "\t\\hline\n",
       "\t1 & -10000 & 440 & 9646 & 85322 \\\\\n",
       "\t2 & -5000 & 467 & 9329 & 85639 \\\\\n",
       "\t3 & 0 & 493 & 9100 & 85868 \\\\\n",
       "\t4 & 5000 & 519 & 8957 & 86011 \\\\\n",
       "\t5 & 10000 & 545 & 8828 & 86140 \\\\\n",
       "\t6 & -20000 & 386 & 10447 & 84522 \\\\\n",
       "\t7 & -40000 & 270 & 13132 & 81837 \\\\\n",
       "\t8 & -60000 & 134 & 19452 & 75519 \\\\\n",
       "\\end{tabular}\n"
      ],
      "text/plain": [
       "8×4 DataFrame\n",
       "│ Row │ Budget │ Min_Bikes │ Missed_Optimal │ Met_Optimal │\n",
       "│     │ \u001b[90mInt64\u001b[39m  │ \u001b[90mInt64\u001b[39m     │ \u001b[90mInt64\u001b[39m          │ \u001b[90mInt64\u001b[39m       │\n",
       "├─────┼────────┼───────────┼────────────────┼─────────────┤\n",
       "│ 1   │ -10000 │ 440       │ 9646           │ 85322       │\n",
       "│ 2   │ -5000  │ 467       │ 9329           │ 85639       │\n",
       "│ 3   │ 0      │ 493       │ 9100           │ 85868       │\n",
       "│ 4   │ 5000   │ 519       │ 8957           │ 86011       │\n",
       "│ 5   │ 10000  │ 545       │ 8828           │ 86140       │\n",
       "│ 6   │ -20000 │ 386       │ 10447          │ 84522       │\n",
       "│ 7   │ -40000 │ 270       │ 13132          │ 81837       │\n",
       "│ 8   │ -60000 │ 134       │ 19452          │ 75519       │"
      ]
     },
     "execution_count": 25,
     "metadata": {},
     "output_type": "execute_result"
    }
   ],
   "source": [
    "for budget in [-40000, -60000]\n",
    "    output = compute_everything(\"sep19\",budget,1.15,200)\n",
    "    push!(results_budg4, [budget, round(output[1]), round(output[2]), round(output[3])])\n",
    "end\n",
    "\n",
    "IJulia.clear_output()\n",
    "\n",
    "results_budg4"
   ]
  },
  {
   "cell_type": "code",
   "execution_count": null,
   "metadata": {},
   "outputs": [],
   "source": []
  }
 ],
 "metadata": {
  "kernelspec": {
   "display_name": "Julia 1.0.5",
   "language": "julia",
   "name": "julia-1.0"
  },
  "language_info": {
   "file_extension": ".jl",
   "mimetype": "application/julia",
   "name": "julia",
   "version": "1.0.5"
  },
  "toc": {
   "base_numbering": 1,
   "nav_menu": {},
   "number_sections": true,
   "sideBar": true,
   "skip_h1_title": false,
   "title_cell": "Table of Contents",
   "title_sidebar": "Contents",
   "toc_cell": false,
   "toc_position": {},
   "toc_section_display": true,
   "toc_window_display": false
  },
  "varInspector": {
   "cols": {
    "lenName": 16,
    "lenType": 16,
    "lenVar": 40
   },
   "kernels_config": {
    "python": {
     "delete_cmd_postfix": "",
     "delete_cmd_prefix": "del ",
     "library": "var_list.py",
     "varRefreshCmd": "print(var_dic_list())"
    },
    "r": {
     "delete_cmd_postfix": ") ",
     "delete_cmd_prefix": "rm(",
     "library": "var_list.r",
     "varRefreshCmd": "cat(var_dic_list()) "
    }
   },
   "types_to_exclude": [
    "module",
    "function",
    "builtin_function_or_method",
    "instance",
    "_Feature"
   ],
   "window_display": false
  }
 },
 "nbformat": 4,
 "nbformat_minor": 2
}
